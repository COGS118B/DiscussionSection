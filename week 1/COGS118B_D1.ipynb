{
 "cells": [
  {
   "cell_type": "markdown",
   "id": "cd61d1b7-0073-48f9-82b9-28101090b1ec",
   "metadata": {},
   "source": [
    "# Discussion Notebook Week 1\n",
    "\n",
    "In this notebook, we are going to do some basic reviews about python, numpy, scipy, along with some basic review with probability theory and estimation."
   ]
  },
  {
   "cell_type": "code",
   "execution_count": null,
   "id": "b1c7f69e-e6b9-41ac-914c-e6d40c8ef623",
   "metadata": {
    "scrolled": true
   },
   "outputs": [],
   "source": [
    "# According to https://github.com/jmshea/jupyterquiz/issues/20\n",
    "!python -m pip install -q jupyterquiz==2.7.0a1\n",
    "from jupyterquiz import display_quiz"
   ]
  },
  {
   "cell_type": "markdown",
   "id": "24bbc26a-777a-4b1b-9ff0-9e2bf12ca52e",
   "metadata": {},
   "source": [
    "## Different Types of Errors"
   ]
  },
  {
   "cell_type": "code",
   "execution_count": null,
   "id": "89b91ade-ff13-4d92-82bc-790dd211df05",
   "metadata": {},
   "outputs": [],
   "source": [
    "display_quiz(\"prob.json\")"
   ]
  },
  {
   "cell_type": "markdown",
   "id": "c231b4b5-ce2b-4555-9efb-507245a27e72",
   "metadata": {},
   "source": [
    "## Randon Variables and Probability Events"
   ]
  },
  {
   "cell_type": "code",
   "execution_count": null,
   "id": "a1929f42-a854-4140-9623-b5bec6d76fe8",
   "metadata": {},
   "outputs": [],
   "source": [
    "display_quiz(\"rv.json\")"
   ]
  },
  {
   "cell_type": "markdown",
   "id": "d24a0a2c-7fef-4ce0-af6e-b3ac53ffc23c",
   "metadata": {},
   "source": [
    "## Expected Values of Discrete / Continous R.V."
   ]
  },
  {
   "cell_type": "code",
   "execution_count": null,
   "id": "6529da09-6079-4c62-9404-917d15abc2a7",
   "metadata": {},
   "outputs": [],
   "source": [
    "display_quiz(\"EX.json\")"
   ]
  },
  {
   "cell_type": "markdown",
   "id": "8c744b28-0c80-4b53-bdf6-8709ca094ad1",
   "metadata": {},
   "source": [
    "## Numpy"
   ]
  },
  {
   "cell_type": "markdown",
   "id": "5e2a5ebe-2ca2-43d7-a2a9-e28d5b372cfa",
   "metadata": {},
   "source": [
    "#### Import Numpy"
   ]
  },
  {
   "cell_type": "code",
   "execution_count": null,
   "id": "e2320a37-908c-44ac-9a1b-393181d9df11",
   "metadata": {},
   "outputs": [],
   "source": [
    "import numpy as np"
   ]
  },
  {
   "cell_type": "markdown",
   "id": "8b7d5671-1110-4e4b-83c3-bdf8820cd968",
   "metadata": {},
   "source": [
    "#### Create Array"
   ]
  },
  {
   "cell_type": "code",
   "execution_count": null,
   "id": "ac15852c-a34f-446a-a412-7dc501916e07",
   "metadata": {},
   "outputs": [],
   "source": [
    "array_1d = np.array([1, 2, 3])        # A 1D array\n",
    "print(\"1D array:\", array_1d, \"Shape:\", array_1d.shape)\n",
    "\n",
    "array_2d = np.array([[1], [2], [3]])  # A 2D array\n",
    "print(\"2D Array:\")\n",
    "print(array_2d)\n",
    "print(\"Shape:\", array_2d.shape)"
   ]
  },
  {
   "cell_type": "markdown",
   "id": "33777077-b43f-40de-b3d4-346c9d26398a",
   "metadata": {},
   "source": [
    "#### Array Indexing"
   ]
  },
  {
   "cell_type": "code",
   "execution_count": null,
   "id": "2a8b5522-ff46-4eba-8d16-93b13ae9132a",
   "metadata": {},
   "outputs": [],
   "source": [
    "# Given a 3x3 matrix\n",
    "print(\"Matrix\")\n",
    "m = np.array([[1, 2, 3], [4, 5, 6], [7, 8, 9]]) # Create a 3x3 array.\n",
    "print(m)"
   ]
  },
  {
   "cell_type": "code",
   "execution_count": null,
   "id": "d43eef64-c1f6-4477-9997-de241277bf65",
   "metadata": {},
   "outputs": [],
   "source": [
    "# Extract the 2nd row from the Matrix m\n",
    "print(m[1])"
   ]
  },
  {
   "cell_type": "code",
   "execution_count": null,
   "id": "2cb9e508-79b4-404e-becd-ad4157b31baf",
   "metadata": {},
   "outputs": [],
   "source": [
    "# Extract the 3rd column from the Matrix m\n",
    "print(m[:,2])"
   ]
  },
  {
   "cell_type": "code",
   "execution_count": null,
   "id": "3d2b8b6c-3d02-4dba-b20c-022fde116f11",
   "metadata": {},
   "outputs": [],
   "source": [
    "# Extract the element in the 1st row and 3rd column from the Matrix m\n",
    "print(m[0,2])"
   ]
  },
  {
   "cell_type": "markdown",
   "id": "c8858ae0-995e-424d-80d6-f913e2f33ac2",
   "metadata": {},
   "source": [
    "#### Modify an Array"
   ]
  },
  {
   "cell_type": "code",
   "execution_count": null,
   "id": "4d2c072b-93b5-47b4-9012-9531b7367422",
   "metadata": {},
   "outputs": [],
   "source": [
    "# Change the 1st row of the following 3x3 matrix to [100, 100, 100]\n",
    "m = np.array([[1, 2, 3], [4, 5, 6], [7, 8, 9]]) # Create a 3x3 array.\n",
    "print('Before Modification:')\n",
    "print(m)\n",
    "\n",
    "# Solution\n",
    "row = np.array([100, 100, 100])\n",
    "m[0] = row\n",
    "print('After Modification:')\n",
    "print(m)"
   ]
  },
  {
   "cell_type": "code",
   "execution_count": null,
   "id": "f115ef23-1874-4109-b063-c4403a5bf94b",
   "metadata": {},
   "outputs": [],
   "source": [
    "# Change the last column of the following 3x3 matrix to [100, 100, 100]\n",
    "m = np.array([[1, 2, 3], [4, 5, 6], [7, 8, 9]]) # Create a 3x3 array.\n",
    "print('Before Modification:')\n",
    "print(m)\n",
    "\n",
    "# Solution\n",
    "row = np.array([100, 100, 100])\n",
    "m[:,2] = row\n",
    "print('After Modification:')\n",
    "print(m)"
   ]
  },
  {
   "cell_type": "markdown",
   "id": "2baefcf0-7bd2-4e54-970b-afa6a5c99624",
   "metadata": {},
   "source": [
    "#### Math Operations"
   ]
  },
  {
   "cell_type": "code",
   "execution_count": null,
   "id": "6c2e5694-8dbb-41ae-aecf-56ca81c68dd5",
   "metadata": {},
   "outputs": [],
   "source": [
    "a = np.array([[1, 2, 3], [4, 5, 6]], dtype=np.float64)\n",
    "\n",
    "# Multiply each element in a by three\n",
    "print(a * 3)                                            \n",
    "# Divide each element in a by two\n",
    "print(a / 2)                                            "
   ]
  },
  {
   "cell_type": "code",
   "execution_count": null,
   "id": "491faad2-31b2-48a0-920a-60882eeebab5",
   "metadata": {},
   "outputs": [],
   "source": [
    "b = np.array([[1, 1, 1], [2, 2, 2]], dtype=np.float64)\n",
    "\n",
    "print(a + b)                                            # Elementwise sum\n",
    "print(a - b)                                            # Elementwise difference\n",
    "print(a * b)                                            # Elementwise product\n",
    "print(a / b)                                            # Elementwise division\n",
    "print(a == b)                                           # Elementwise comparison"
   ]
  },
  {
   "cell_type": "code",
   "execution_count": null,
   "id": "f916ee5b-2bba-42f8-b712-9f524a253417",
   "metadata": {},
   "outputs": [],
   "source": [
    "m = np.array([[1, 2, 3], [4, 5, 6], [7, 8, 9]])\n",
    "\n",
    "# Sum of all array elements\n",
    "print(np.sum(m))\n",
    "# Sum of each column\n",
    "print(np.sum(m, axis=0))\n",
    "# Sum of each row\n",
    "print(np.sum(m, axis=1)) "
   ]
  },
  {
   "cell_type": "markdown",
   "id": "5fa5e169-c16b-4be9-9d35-be945eb2c7c4",
   "metadata": {},
   "source": [
    "#### Matrix Operations"
   ]
  },
  {
   "cell_type": "code",
   "execution_count": null,
   "id": "4a94b13b-2d6c-4745-ae6c-ebc09163d4ff",
   "metadata": {},
   "outputs": [],
   "source": [
    "a = np.array([[1, 2], [3, 4]])\n",
    "b = np.array([[2, 1], [3, 1]])\n",
    "# Multiply matrix a with matrix b\n",
    "print(a.dot(b))   \n",
    "\n",
    "# Multiply matrix a with a vector x\n",
    "x = np.array([4, 2])  \n",
    "print(a.dot(x))                "
   ]
  },
  {
   "cell_type": "markdown",
   "id": "508ca829-0627-4f0b-b52a-03d068b59312",
   "metadata": {},
   "source": [
    "#### Load Data with Numpy"
   ]
  },
  {
   "cell_type": "code",
   "execution_count": null,
   "id": "6376b487-c030-4f83-b0db-91638ab7f18b",
   "metadata": {},
   "outputs": [],
   "source": [
    "# The Iris dataset(with no labels) is stored in 'iris.txt'\n",
    "# Load the dataset with Numpy\n",
    "iris_dataset = np.loadtxt('iris.txt')"
   ]
  },
  {
   "cell_type": "code",
   "execution_count": null,
   "id": "bc947cf1-3f31-4822-92e9-4227ddb3c5ac",
   "metadata": {},
   "outputs": [],
   "source": [
    "# Each row represents features of sample\n",
    "# Each column represents one type of feature\n",
    "print(iris_dataset[:10])"
   ]
  },
  {
   "cell_type": "markdown",
   "id": "3de7c47b-3ac8-446a-bfbe-ea97a9fc038d",
   "metadata": {},
   "source": [
    "## Matplotlib"
   ]
  },
  {
   "cell_type": "code",
   "execution_count": null,
   "id": "9426fb00-1404-4a81-86b0-47a39875db01",
   "metadata": {},
   "outputs": [],
   "source": [
    "# Import matplotlib\n",
    "import matplotlib.pyplot as plt"
   ]
  },
  {
   "cell_type": "code",
   "execution_count": null,
   "id": "8f6225c6-7b59-4941-aac5-f969b2bb6e25",
   "metadata": {},
   "outputs": [],
   "source": [
    "x = np.arange(-2., 2., 0.01) * np.pi\n",
    "\n",
    "# Plot sin(x)\n",
    "plt.plot(x, np.sin(x))\n",
    "# Set x label\n",
    "plt.xlabel('x')\n",
    "# Set y label\n",
    "plt.ylabel('sin⁡(x) value')\n",
    "# Set plot title\n",
    "plt.title('Sine function')\n",
    "\n",
    "plt.show()"
   ]
  },
  {
   "cell_type": "markdown",
   "id": "73e47a7f-9cfe-413e-bb36-d38c81c54eb2",
   "metadata": {},
   "source": [
    "## End of D1 :-)"
   ]
  },
  {
   "cell_type": "code",
   "execution_count": null,
   "id": "964467fc-bdb8-42b5-9be3-add34be1b787",
   "metadata": {},
   "outputs": [],
   "source": []
  }
 ],
 "metadata": {
  "kernelspec": {
   "display_name": "Python 3 (ipykernel)",
   "language": "python",
   "name": "python3"
  },
  "language_info": {
   "codemirror_mode": {
    "name": "ipython",
    "version": 3
   },
   "file_extension": ".py",
   "mimetype": "text/x-python",
   "name": "python",
   "nbconvert_exporter": "python",
   "pygments_lexer": "ipython3",
   "version": "3.9.5"
  }
 },
 "nbformat": 4,
 "nbformat_minor": 5
}
