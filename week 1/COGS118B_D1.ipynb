{
 "cells": [
  {
   "cell_type": "markdown",
   "id": "cd61d1b7-0073-48f9-82b9-28101090b1ec",
   "metadata": {},
   "source": [
    "# Discussion Notebook Week 1\n",
    "\n",
    "In this notebook, we are going to do some basic reviews about python, numpy, scipy, along with some basic review with probability theory and estimation."
   ]
  },
  {
   "cell_type": "code",
   "execution_count": null,
   "id": "b1c7f69e-e6b9-41ac-914c-e6d40c8ef623",
   "metadata": {
    "scrolled": true
   },
   "outputs": [],
   "source": [
    "# According to https://github.com/jmshea/jupyterquiz/issues/20\n",
    "!pip install -q jupyterquiz==2.7.0a1\n",
    "from jupyterquiz import display_quiz"
   ]
  },
  {
   "cell_type": "markdown",
   "id": "24bbc26a-777a-4b1b-9ff0-9e2bf12ca52e",
   "metadata": {},
   "source": [
    "## Different Types of Errors"
   ]
  },
  {
   "cell_type": "code",
   "execution_count": null,
   "id": "89b91ade-ff13-4d92-82bc-790dd211df05",
   "metadata": {},
   "outputs": [],
   "source": [
    "display_quiz(\"prob.json\")"
   ]
  },
  {
   "cell_type": "markdown",
   "id": "c231b4b5-ce2b-4555-9efb-507245a27e72",
   "metadata": {},
   "source": [
    "## Randon Variables and Probability Events"
   ]
  },
  {
   "cell_type": "code",
   "execution_count": null,
   "id": "a1929f42-a854-4140-9623-b5bec6d76fe8",
   "metadata": {},
   "outputs": [],
   "source": [
    "display_quiz(\"rv.json\")"
   ]
  },
  {
   "cell_type": "markdown",
   "id": "d24a0a2c-7fef-4ce0-af6e-b3ac53ffc23c",
   "metadata": {},
   "source": [
    "## Expected Values of Discrete / Continous R.V."
   ]
  },
  {
   "cell_type": "code",
   "execution_count": null,
   "id": "6529da09-6079-4c62-9404-917d15abc2a7",
   "metadata": {},
   "outputs": [],
   "source": [
    "display_quiz(\"EX.json\")"
   ]
  },
  {
   "cell_type": "markdown",
   "id": "81ea276a-f364-413d-b108-990dca0d42ba",
   "metadata": {},
   "source": [
    "## End of D1 :-)"
   ]
  }
 ],
 "metadata": {
  "kernelspec": {
   "display_name": "Python 3 (ipykernel)",
   "language": "python",
   "name": "python3"
  },
  "language_info": {
   "codemirror_mode": {
    "name": "ipython",
    "version": 3
   },
   "file_extension": ".py",
   "mimetype": "text/x-python",
   "name": "python",
   "nbconvert_exporter": "python",
   "pygments_lexer": "ipython3",
   "version": "3.11.7"
  }
 },
 "nbformat": 4,
 "nbformat_minor": 5
}
