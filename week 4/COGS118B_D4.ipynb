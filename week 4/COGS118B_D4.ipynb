{
 "cells": [
  {
   "cell_type": "markdown",
   "id": "3982c3bc",
   "metadata": {},
   "source": [
    "# Week 4 Discussion Section Notebook\n",
    "\n",
    "This notebook is designed to help you prepare to complete A2. We'll cover key concepts and techniques that are crucial for understanding and solving the problems in A2. The notebook includes a mix of multiple-choice questions and coding exercises to reinforce your understanding of the material."
   ]
  },
  {
   "cell_type": "code",
   "execution_count": null,
   "id": "f679be6c",
   "metadata": {},
   "outputs": [],
   "source": [
    "# According to https://github.com/jmshea/jupyterquiz/issues/20\n",
    "!python -m pip install -q jupyterquiz==2.7.0a1\n",
    "from jupyterquiz import display_quiz"
   ]
  },
  {
   "cell_type": "markdown",
   "id": "952ab08f",
   "metadata": {},
   "source": [
    "## Multiple Choice Questions: E and M steps for GMMs\n",
    "\n",
    "Below are some multiple-choice questions to test your understanding of key concepts.\n"
   ]
  },
  {
   "cell_type": "code",
   "execution_count": null,
   "id": "04b0e03e",
   "metadata": {},
   "outputs": [],
   "source": [
    "display_quiz(\"data/E_Step.json\")"
   ]
  },
  {
   "cell_type": "code",
   "execution_count": null,
   "id": "09e62ec4",
   "metadata": {},
   "outputs": [],
   "source": [
    "display_quiz(\"data/M_Step.json\")"
   ]
  },
  {
   "cell_type": "markdown",
   "id": "7bdb79a0",
   "metadata": {},
   "source": [
    "## Simple Coding Exercise: K-Means Clustering\n",
    "\n",
    "In this exercise, you'll implement a basic version of the K-Means clustering algorithm. This will help you understand the mechanics of centroid initialization, assignment of points to clusters, and updating centroids."
   ]
  },
  {
   "cell_type": "code",
   "execution_count": null,
   "id": "05cfb633",
   "metadata": {},
   "outputs": [],
   "source": [
    "import numpy as np\n",
    "import matplotlib.pyplot as plt\n",
    "from sklearn.datasets import make_blobs"
   ]
  },
  {
   "cell_type": "markdown",
   "id": "26ce68cc",
   "metadata": {},
   "source": [
    "First, let's generate some synthetic data using `make_blobs`, which will create clusters of data points. We'll use this data to apply our K-Means implementation.\n",
    "\n",
    "Complete the line below to use the `make_blobs` function to create 4 clusters (`centers=4`) of 300 points in total (`n_samples=300`), where the standard deviation within a cluster is 0.60 (`cluster_std=0.60`). Also, this function has a random state parameter that should be set to 0 (`random_state=0`)."
   ]
  },
  {
   "cell_type": "code",
   "execution_count": null,
   "id": "8059568c",
   "metadata": {},
   "outputs": [],
   "source": [
    "X, _ = ... # complete this line using make_blobs (replace the ...)\n",
    "plt.scatter(X[:, 0], X[:, 1], s=50)\n",
    "plt.title('Synthetic Data')\n",
    "plt.xlabel('Feature 1')\n",
    "plt.ylabel('Feature 2')\n",
    "plt.show()"
   ]
  },
  {
   "cell_type": "markdown",
   "id": "5c2335e6",
   "metadata": {},
   "source": [
    "We can print out X.shape (the result should be `(300,2)`) to see that there are 300 points, and each point has an x-coordinate and a y-coordinate."
   ]
  },
  {
   "cell_type": "code",
   "execution_count": null,
   "id": "96907a50",
   "metadata": {},
   "outputs": [],
   "source": [
    "X.shape"
   ]
  },
  {
   "cell_type": "markdown",
   "id": "6a7017ad",
   "metadata": {},
   "source": [
    "The first step in K-Means is to initialize the centroids. We'll randomly select K data points to serve as the initial centroids. In the function below, we create a variable called `indices` to delect the indices of the points we select. In this case, k = 4 so there will be 4 indices chosen and each index is a number in the range 0-299.\n",
    "\n",
    "Complete the function below using `np.random.choice` to select `k` random indices. Make sure that the same index is **not** chosen twice (hint: there is a parameter called `replace` to help with that)."
   ]
  },
  {
   "cell_type": "code",
   "execution_count": null,
   "id": "de10a73a",
   "metadata": {},
   "outputs": [],
   "source": [
    "def initialize_centroids(data, k):\n",
    "    # Randomly select k data points as initial centroids\n",
    "    \n",
    "    indices = ... # complete this line using np.random.choice\n",
    "    centroids = data[indices]\n",
    "    return centroids\n",
    "\n",
    "centroids = initialize_centroids(X, 4)"
   ]
  },
  {
   "cell_type": "markdown",
   "id": "d19a8cc7",
   "metadata": {},
   "source": [
    "Once the centroids are initialized, each data point is assigned to the closest centroid. This forms the initial clusters."
   ]
  },
  {
   "cell_type": "code",
   "execution_count": null,
   "id": "8e4ee3ea",
   "metadata": {},
   "outputs": [],
   "source": [
    "def assign_clusters(data, centroids):\n",
    "    # Calculate the distances between each data point and the centroids\n",
    "    # Hint: Use numpy broadcasting for efficient computation\n",
    "    distances = ...  # Complete this line to compute the distances\n",
    "    \n",
    "    # Assign each data point to the closest centroid\n",
    "    # Hint: Use argmin to find the index of the minimum distance\n",
    "    clusters = ...  # Complete this line to assign clusters based on minimum distance\n",
    "    \n",
    "    return clusters\n",
    "\n",
    "clusters = assign_clusters(X, centroids)"
   ]
  },
  {
   "cell_type": "markdown",
   "id": "8ccf3df5",
   "metadata": {},
   "source": [
    "After assigning the data points to clusters, the next step is to update the centroids based on the mean of the points in each cluster."
   ]
  },
  {
   "cell_type": "code",
   "execution_count": null,
   "id": "df993143",
   "metadata": {},
   "outputs": [],
   "source": [
    "def update_centroids(data, clusters, k):\n",
    "    # Complete this function to create update the centroids of each cluster\n",
    "    # Hint: take the mean of all the points in each cluster.\n",
    "    # The resulting array should have a shape (4,2) since there are 4 centroids \n",
    "    pass\n",
    "\n",
    "centroids = update_centroids(X, clusters, 4)"
   ]
  },
  {
   "cell_type": "markdown",
   "id": "edbc8ea4",
   "metadata": {},
   "source": [
    "The assignment of clusters and updating of centroids are repeated until the centroids no longer change significantly, indicating the algorithm has converged."
   ]
  },
  {
   "cell_type": "code",
   "execution_count": null,
   "id": "33545be4",
   "metadata": {},
   "outputs": [],
   "source": [
    "def k_means_clustering(data, k, iters=10):\n",
    "    centroids = initialize_centroids(data, k)\n",
    "    for _ in range(iters):\n",
    "        clusters = assign_clusters(data, centroids)\n",
    "        centroids = update_centroids(data, clusters, k)\n",
    "    \n",
    "    return clusters, centroids\n",
    "\n",
    "clusters, centroids = k_means_clustering(X, 4)"
   ]
  },
  {
   "cell_type": "markdown",
   "id": "aef2ab85",
   "metadata": {},
   "source": [
    "Lastly, we can visualize the resulting clusters from the K-Means algorithm."
   ]
  },
  {
   "cell_type": "code",
   "execution_count": null,
   "id": "f3892500",
   "metadata": {},
   "outputs": [],
   "source": [
    "plt.scatter(X[:, 0], X[:, 1], c=clusters, s=50, cmap='viridis')\n",
    "plt.scatter(centroids[:, 0], centroids[:, 1], s=200, c='red', alpha=0.5)\n",
    "plt.title('K-Means Clustering Results')\n",
    "plt.xlabel('Feature 1')\n",
    "plt.ylabel('Feature 2')\n",
    "plt.show()"
   ]
  },
  {
   "cell_type": "markdown",
   "id": "a02ad69a",
   "metadata": {},
   "source": [
    "### Interpreting the results\n",
    "\n",
    "Based on the plot above, what do you think about the results of this clustering algorithm? Does it work well, or are there any ways to improve it? In addition, think about the number of iterations used. What happens when you use a larger number of iterations, such as `iters = 100`?"
   ]
  },
  {
   "cell_type": "markdown",
   "id": "91780086",
   "metadata": {},
   "source": [
    "_Type in your response here_"
   ]
  },
  {
   "cell_type": "markdown",
   "id": "5a7be2fc",
   "metadata": {},
   "source": [
    "## Understanding Doc Tests\n",
    "\n",
    "Doc tests are a convenient way to embed tests for your code within docstrings. This allows you to provide example usage of your functions and automatically verify that they work as intended. In Python, you can include tests in the docstrings of your functions, which can then be run using the `doctest` module. This is a great way to provide examples and ensure your code behaves as expected.\n",
    "\n",
    "There are several doc tests in A2, and the image below shows an example.\n",
    "\n",
    "![doc test image](data/doc_test.png)\n",
    "\n",
    "What do you think this doc test is intended for? Answer the quiz question below."
   ]
  },
  {
   "cell_type": "code",
   "execution_count": null,
   "id": "fdfa7679",
   "metadata": {},
   "outputs": [],
   "source": [
    "display_quiz(\"data/Doc_Test.json\")"
   ]
  },
  {
   "cell_type": "markdown",
   "id": "c10ea755",
   "metadata": {},
   "source": [
    "Let's see an example below where we include a simple function with doc tests."
   ]
  },
  {
   "cell_type": "code",
   "execution_count": null,
   "id": "705da4b6",
   "metadata": {},
   "outputs": [],
   "source": [
    "def add(a, b):\n",
    "    '''\n",
    "    Returns the sum of a and b\n",
    "    \n",
    "    >>> add(2, 3)\n",
    "    5\n",
    "    >>> add(-1, 1)\n",
    "    0\n",
    "    '''\n",
    "    return a + b\n",
    "\n",
    "import doctest\n",
    "doctest.testmod(verbose=True)"
   ]
  },
  {
   "cell_type": "markdown",
   "id": "43cdcb5f",
   "metadata": {},
   "source": [
    "Notice that after we run the doctests above using **doctest.testmod**, the tests specified **add(2,3)** and **add(-1,1)** are executed, and the outputs of these tests are compared against the expected value. For instance, we expect that adding 2 and 3 should give us 5."
   ]
  },
  {
   "cell_type": "markdown",
   "id": "5f480a71",
   "metadata": {},
   "source": [
    "## Now it's your turn to make a doc test!\n",
    "\n",
    "In this exercise, you'll implement doc tests for a basic Euclidean distance function, which is fundamental for K-Means clustering. The Euclidean distance between two points in a Euclidean plane is the length of a line segment between the two points. It can be calculated from the Cartesian coordinates of the points using the Pythagorean theorem.\n",
    "\n",
    "### Task\n",
    "\n",
    "1. Complete the `euclidean_distance` function by calculating the distance between two points `point1` and `point2`. Each point is represented as a tuple of coordinates (x, y).\n",
    "2. Write at least two doc tests within the function's docstring:\n",
    "   - A test where both points are the same, expecting a distance of `0.0`.\n",
    "   - A test with points `(0, 0)` and `(3, 4)`, expecting a distance of `5.0` based on the 3-4-5 triangle.\n",
    "   \n",
    "Feel free to add more doc tests! Remember that you need to use the `>>>` notation (as shown in the previous example for the `add` function)."
   ]
  },
  {
   "cell_type": "code",
   "execution_count": null,
   "id": "cc16bcfd",
   "metadata": {},
   "outputs": [],
   "source": [
    "import numpy as np\n",
    "\n",
    "def euclidean_distance(point1, point2):\n",
    "    \"\"\"\n",
    "    Calculate the Euclidean distance between two points in 2D space.\n",
    "    \n",
    "    Args:\n",
    "    - point1: A tuple (x1, y1) representing the first point.\n",
    "    - point2: A tuple (x2, y2) representing the second point.\n",
    "    \n",
    "    Returns:\n",
    "    - The Euclidean distance between the two points.\n",
    "    \n",
    "    Examples:\n",
    "    ADD IN YOUR DOC TESTS HERE...\n",
    "    \n",
    "    \"\"\"\n",
    "    # Your code here\n",
    "    pass"
   ]
  },
  {
   "cell_type": "markdown",
   "id": "76f1095a",
   "metadata": {},
   "source": [
    "Once you finish writing the function and the doc tests, complete the cell below with one line of code to run your doc tests."
   ]
  },
  {
   "cell_type": "code",
   "execution_count": null,
   "id": "dbf642a6",
   "metadata": {},
   "outputs": [],
   "source": [
    "### Insert code here to run the doc tests"
   ]
  }
 ],
 "metadata": {
  "kernelspec": {
   "display_name": "Python 3 (ipykernel)",
   "language": "python",
   "name": "python3"
  },
  "language_info": {
   "codemirror_mode": {
    "name": "ipython",
    "version": 3
   },
   "file_extension": ".py",
   "mimetype": "text/x-python",
   "name": "python",
   "nbconvert_exporter": "python",
   "pygments_lexer": "ipython3",
   "version": "3.9.5"
  }
 },
 "nbformat": 4,
 "nbformat_minor": 5
}
