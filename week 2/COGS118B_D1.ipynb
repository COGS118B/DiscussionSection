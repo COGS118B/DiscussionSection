{
 "cells": [
  {
   "cell_type": "code",
   "execution_count": null,
   "id": "9e8481a2-405f-4b70-8c0c-4b143f6a692e",
   "metadata": {},
   "outputs": [],
   "source": [
    "# According to https://github.com/jmshea/jupyterquiz/issues/20\n",
    "!python -m pip install -q jupyterquiz==2.7.0a1\n",
    "from jupyterquiz import display_quiz"
   ]
  },
  {
   "cell_type": "markdown",
   "id": "9a4d32e1-899f-40cd-9d07-27f4763ece07",
   "metadata": {},
   "source": [
    "## Baye's Theorem"
   ]
  },
  {
   "cell_type": "code",
   "execution_count": null,
   "id": "03ff02e5-a8ab-4044-82a6-9ce16c6fa70f",
   "metadata": {},
   "outputs": [],
   "source": [
    "display_quiz(\"data/bayes.json\")"
   ]
  },
  {
   "cell_type": "markdown",
   "id": "7d647af8-0fe1-47e1-b837-a42754a6bdda",
   "metadata": {},
   "source": [
    "## MLE and MAP"
   ]
  },
  {
   "cell_type": "code",
   "execution_count": null,
   "id": "06f9f75c-df56-48f3-945a-29833d01a6d4",
   "metadata": {},
   "outputs": [],
   "source": [
    "display_quiz(\"data/mle.json\")"
   ]
  },
  {
   "cell_type": "code",
   "execution_count": null,
   "id": "5331797e-2b09-4b59-8c44-161958d187b5",
   "metadata": {},
   "outputs": [],
   "source": []
  },
  {
   "cell_type": "markdown",
   "id": "7afd23b9-883c-41b6-b631-b86f79671015",
   "metadata": {},
   "source": [
    "## Plot the Gamma Distribution\n",
    "<div>\n",
    "<img src=data/gamma.png width=\"400\"/>\n",
    "</div>"
   ]
  },
  {
   "cell_type": "code",
   "execution_count": null,
   "id": "4265b069-103a-4509-8404-2da6a639d9da",
   "metadata": {},
   "outputs": [],
   "source": [
    "from scipy.stats import gamma\n",
    "import numpy as np\n",
    "import matplotlib.pyplot as plt"
   ]
  },
  {
   "cell_type": "markdown",
   "id": "ff38f132-f17f-432e-a1c0-4361a0bd55fb",
   "metadata": {},
   "source": [
    "#### Create the values on the x-axis"
   ]
  },
  {
   "cell_type": "code",
   "execution_count": null,
   "id": "3ee7fb64-7d4a-421f-b15d-8961080545d7",
   "metadata": {},
   "outputs": [],
   "source": [
    "# using numpy an array of numbers starting from 0, going up to 20\n",
    "x_values = ..."
   ]
  },
  {
   "cell_type": "markdown",
   "id": "18441726-8ed3-43f2-ac5a-b0f414f7a686",
   "metadata": {},
   "source": [
    "#### Calculate the pdf with k=9(shape parameter) and $\\theta$=0.5(scale parameter)"
   ]
  },
  {
   "cell_type": "code",
   "execution_count": null,
   "id": "181fc7bf-d8cf-4237-8985-bd8bc5e6aa03",
   "metadata": {},
   "outputs": [],
   "source": [
    "y_values = ..."
   ]
  },
  {
   "cell_type": "markdown",
   "id": "6cb00d03-4c81-42cd-b38d-0addf9027ab5",
   "metadata": {},
   "source": [
    "#### Plot the values"
   ]
  },
  {
   "cell_type": "code",
   "execution_count": null,
   "id": "20f66835-2493-4fa3-8779-1528ccc46e0c",
   "metadata": {
    "scrolled": true
   },
   "outputs": [],
   "source": [
    "plt.plot ..."
   ]
  },
  {
   "cell_type": "markdown",
   "id": "c57562fc-fa56-46f0-8297-e72dadd3ac2f",
   "metadata": {},
   "source": [
    "#### Plot the other gamma distribution"
   ]
  },
  {
   "cell_type": "code",
   "execution_count": null,
   "id": "9eaaad63-ea63-4f3e-a9b6-bbcadb38f97f",
   "metadata": {},
   "outputs": [],
   "source": []
  },
  {
   "cell_type": "code",
   "execution_count": null,
   "id": "a26aa34f-12a8-4856-a076-0517efeccf86",
   "metadata": {},
   "outputs": [],
   "source": []
  },
  {
   "cell_type": "markdown",
   "id": "0bcbffd9-c472-4509-8bc0-4f8d57620b94",
   "metadata": {},
   "source": [
    "## End of DI Week2"
   ]
  }
 ],
 "metadata": {
  "kernelspec": {
   "display_name": "Python 3 (ipykernel)",
   "language": "python",
   "name": "python3"
  },
  "language_info": {
   "codemirror_mode": {
    "name": "ipython",
    "version": 3
   },
   "file_extension": ".py",
   "mimetype": "text/x-python",
   "name": "python",
   "nbconvert_exporter": "python",
   "pygments_lexer": "ipython3",
   "version": "3.9.5"
  }
 },
 "nbformat": 4,
 "nbformat_minor": 5
}
